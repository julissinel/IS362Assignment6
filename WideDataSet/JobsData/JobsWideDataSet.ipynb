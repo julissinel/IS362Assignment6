{
 "cells": [
  {
   "cell_type": "code",
   "execution_count": 3,
   "metadata": {},
   "outputs": [],
   "source": [
    "import pandas as pd\n",
    "data = pd.read_csv(r\"JobsDataSet.csv\")"
   ]
  },
  {
   "cell_type": "code",
   "execution_count": 4,
   "metadata": {},
   "outputs": [
    {
     "data": {
      "text/html": [
       "<div>\n",
       "<style scoped>\n",
       "    .dataframe tbody tr th:only-of-type {\n",
       "        vertical-align: middle;\n",
       "    }\n",
       "\n",
       "    .dataframe tbody tr th {\n",
       "        vertical-align: top;\n",
       "    }\n",
       "\n",
       "    .dataframe thead th {\n",
       "        text-align: right;\n",
       "    }\n",
       "</style>\n",
       "<table border=\"1\" class=\"dataframe\">\n",
       "  <thead>\n",
       "    <tr style=\"text-align: right;\">\n",
       "      <th></th>\n",
       "      <th>City</th>\n",
       "      <th>LandArea</th>\n",
       "      <th>Jobs.1970</th>\n",
       "      <th>Jobs.1980</th>\n",
       "      <th>Jobs.1990</th>\n",
       "      <th>Jobs.2000</th>\n",
       "    </tr>\n",
       "  </thead>\n",
       "  <tbody>\n",
       "    <tr>\n",
       "      <th>0</th>\n",
       "      <td>Belmont</td>\n",
       "      <td>599</td>\n",
       "      <td>6853</td>\n",
       "      <td>11278</td>\n",
       "      <td>11471</td>\n",
       "      <td>16285</td>\n",
       "    </tr>\n",
       "    <tr>\n",
       "      <th>1</th>\n",
       "      <td>Barbor</td>\n",
       "      <td>1578</td>\n",
       "      <td>19749</td>\n",
       "      <td>27861</td>\n",
       "      <td>40809</td>\n",
       "      <td>70247</td>\n",
       "    </tr>\n",
       "    <tr>\n",
       "      <th>2</th>\n",
       "      <td>Bibb</td>\n",
       "      <td>891</td>\n",
       "      <td>9448</td>\n",
       "      <td>9755</td>\n",
       "      <td>12163</td>\n",
       "      <td>15197</td>\n",
       "    </tr>\n",
       "    <tr>\n",
       "      <th>3</th>\n",
       "      <td>Blount</td>\n",
       "      <td>635</td>\n",
       "      <td>3965</td>\n",
       "      <td>4276</td>\n",
       "      <td>5564</td>\n",
       "      <td>9096</td>\n",
       "    </tr>\n",
       "    <tr>\n",
       "      <th>4</th>\n",
       "      <td>Calguary</td>\n",
       "      <td>639</td>\n",
       "      <td>7587</td>\n",
       "      <td>9490</td>\n",
       "      <td>11811</td>\n",
       "      <td>16003</td>\n",
       "    </tr>\n",
       "  </tbody>\n",
       "</table>\n",
       "</div>"
      ],
      "text/plain": [
       "       City  LandArea  Jobs.1970  Jobs.1980  Jobs.1990  Jobs.2000\n",
       "0   Belmont       599       6853      11278      11471      16285\n",
       "1    Barbor      1578      19749      27861      40809      70247\n",
       "2      Bibb       891       9448       9755      12163      15197\n",
       "3    Blount       635       3965       4276       5564       9096\n",
       "4  Calguary       639       7587       9490      11811      16003"
      ]
     },
     "execution_count": 4,
     "metadata": {},
     "output_type": "execute_result"
    }
   ],
   "source": [
    "data"
   ]
  },
  {
   "cell_type": "code",
   "execution_count": 11,
   "metadata": {},
   "outputs": [],
   "source": [
    "l = pd.wide_to_long(data,stubnames=['Jobs'], i=['City',\n",
    " 'LandArea'],j='Year',sep='.',suffix='\\w+')"
   ]
  },
  {
   "cell_type": "code",
   "execution_count": 12,
   "metadata": {},
   "outputs": [],
   "source": [
    "l = l.reset_index()\n"
   ]
  },
  {
   "cell_type": "code",
   "execution_count": 13,
   "metadata": {},
   "outputs": [
    {
     "data": {
      "text/html": [
       "<div>\n",
       "<style scoped>\n",
       "    .dataframe tbody tr th:only-of-type {\n",
       "        vertical-align: middle;\n",
       "    }\n",
       "\n",
       "    .dataframe tbody tr th {\n",
       "        vertical-align: top;\n",
       "    }\n",
       "\n",
       "    .dataframe thead th {\n",
       "        text-align: right;\n",
       "    }\n",
       "</style>\n",
       "<table border=\"1\" class=\"dataframe\">\n",
       "  <thead>\n",
       "    <tr style=\"text-align: right;\">\n",
       "      <th></th>\n",
       "      <th>City</th>\n",
       "      <th>LandArea</th>\n",
       "      <th>Year</th>\n",
       "      <th>Jobs</th>\n",
       "    </tr>\n",
       "  </thead>\n",
       "  <tbody>\n",
       "    <tr>\n",
       "      <th>0</th>\n",
       "      <td>Belmont</td>\n",
       "      <td>599</td>\n",
       "      <td>1970</td>\n",
       "      <td>6853</td>\n",
       "    </tr>\n",
       "    <tr>\n",
       "      <th>1</th>\n",
       "      <td>Belmont</td>\n",
       "      <td>599</td>\n",
       "      <td>1980</td>\n",
       "      <td>11278</td>\n",
       "    </tr>\n",
       "    <tr>\n",
       "      <th>2</th>\n",
       "      <td>Belmont</td>\n",
       "      <td>599</td>\n",
       "      <td>1990</td>\n",
       "      <td>11471</td>\n",
       "    </tr>\n",
       "    <tr>\n",
       "      <th>3</th>\n",
       "      <td>Belmont</td>\n",
       "      <td>599</td>\n",
       "      <td>2000</td>\n",
       "      <td>16285</td>\n",
       "    </tr>\n",
       "    <tr>\n",
       "      <th>4</th>\n",
       "      <td>Barbor</td>\n",
       "      <td>1578</td>\n",
       "      <td>1970</td>\n",
       "      <td>19749</td>\n",
       "    </tr>\n",
       "  </tbody>\n",
       "</table>\n",
       "</div>"
      ],
      "text/plain": [
       "      City  LandArea  Year   Jobs\n",
       "0  Belmont       599  1970   6853\n",
       "1  Belmont       599  1980  11278\n",
       "2  Belmont       599  1990  11471\n",
       "3  Belmont       599  2000  16285\n",
       "4   Barbor      1578  1970  19749"
      ]
     },
     "execution_count": 13,
     "metadata": {},
     "output_type": "execute_result"
    }
   ],
   "source": [
    "l.head()"
   ]
  },
  {
   "cell_type": "code",
   "execution_count": 15,
   "metadata": {},
   "outputs": [
    {
     "data": {
      "image/png": "[encoded data removed]",
      "text/plain": [
       "<Figure size 432x288 with 1 Axes>"
      ]
     },
     "metadata": {
      "needs_background": "light"
     },
     "output_type": "display_data"
    }
   ],
   "source": [
    "import matplotlib.pyplot as plt\n",
    "l.plot(x='City',y='Jobs',kind='bar')\n",
    "plt.show()"
   ]
  },
  {
   "cell_type": "code",
   "execution_count": null,
   "metadata": {},
   "outputs": [],
   "source": []
  }
 ],
 "metadata": {
  "kernelspec": {
   "display_name": "Python 3",
   "language": "python",
   "name": "python3"
  },
  "language_info": {
   "codemirror_mode": {
    "name": "ipython",
    "version": 3
   },
   "file_extension": ".py",
   "mimetype": "text/x-python",
   "name": "python",
   "nbconvert_exporter": "python",
   "pygments_lexer": "ipython3",
   "version": "3.8.3"
  }
 },
 "nbformat": 4,
 "nbformat_minor": 4
}
